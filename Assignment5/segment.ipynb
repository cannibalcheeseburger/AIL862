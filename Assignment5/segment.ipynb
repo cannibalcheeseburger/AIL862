{
 "cells": [
  {
   "cell_type": "code",
   "execution_count": 2,
   "metadata": {},
   "outputs": [],
   "source": [
    "import os\n",
    "import torch\n",
    "import numpy as np\n",
    "from PIL import Image\n",
    "import matplotlib.pyplot as plt\n",
    "from torch.utils.data import Dataset, DataLoader\n",
    "from transformers import SegformerForSemanticSegmentation, SegformerImageProcessor\n",
    "from tqdm import tqdm\n"
   ]
  },
  {
   "cell_type": "code",
   "execution_count": 3,
   "metadata": {},
   "outputs": [
    {
     "data": {
      "text/plain": [
       "<torch._C.Generator at 0x2ba96480c490>"
      ]
     },
     "execution_count": 3,
     "metadata": {},
     "output_type": "execute_result"
    }
   ],
   "source": [
    "torch.manual_seed(420)"
   ]
  },
  {
   "cell_type": "code",
   "execution_count": 18,
   "metadata": {},
   "outputs": [],
   "source": [
    "DATASET_ROOT = 'dataset'\n",
    "A_DIR = os.path.join(DATASET_ROOT, 'a')\n",
    "B_DIR = os.path.join(DATASET_ROOT, 'b')\n",
    "C_DIR = os.path.join(DATASET_ROOT, 'c')\n",
    "D_DIR = os.path.join(DATASET_ROOT, 'd')\n",
    "\n",
    "DOG_CLASS_INDEX = 12  # VOC dog class index"
   ]
  },
  {
   "cell_type": "code",
   "execution_count": 5,
   "metadata": {},
   "outputs": [],
   "source": [
    "\n",
    "item_c_imgs = [os.path.join(C_DIR, fname) for fname in os.listdir(C_DIR) if fname.lower().endswith('.jpg')]\n",
    "\n",
    "# Item D: test images and masks\n",
    "item_d_imgs = sorted([os.path.join(D_DIR, fname) for fname in os.listdir(D_DIR) if fname.lower().endswith('.jpg')])\n",
    "item_d_masks = [img.replace('.jpg', '_mask.png') for img in item_d_imgs]"
   ]
  },
  {
   "cell_type": "code",
   "execution_count": 6,
   "metadata": {},
   "outputs": [],
   "source": [
    "pseudo_label_dir = 'pseudo_labels'"
   ]
  },
  {
   "cell_type": "code",
   "execution_count": 7,
   "metadata": {},
   "outputs": [],
   "source": [
    "ORIG_DIR = 'orig'  \n",
    "\n",
    "likely_dog_imgs = [os.path.join(ORIG_DIR, fname)\n",
    "                   for fname in os.listdir(ORIG_DIR)\n",
    "                   if fname.lower().endswith('.jpg')]"
   ]
  },
  {
   "cell_type": "code",
   "execution_count": 8,
   "metadata": {},
   "outputs": [],
   "source": [
    "class PseudoLabeledDataset(Dataset):\n",
    "    def __init__(self, image_paths, mask_paths, processor):\n",
    "        self.image_paths = image_paths\n",
    "        self.mask_paths = mask_paths\n",
    "        self.processor = processor\n",
    "\n",
    "    def __len__(self):\n",
    "        return len(self.image_paths)\n",
    "\n",
    "    def __getitem__(self, idx):\n",
    "        image = Image.open(self.image_paths[idx]).convert(\"RGB\")\n",
    "        mask = Image.open(self.mask_paths[idx])\n",
    "        # For pseudo-labels from SAM, just threshold\n",
    "        mask = np.array(mask)\n",
    "        mask = np.where(mask > 127, 1, 0).astype(np.uint8)\n",
    "        mask = Image.fromarray(mask)\n",
    "        inputs = self.processor(images=image, segmentation_maps=mask, return_tensors=\"pt\")\n",
    "        inputs = {k: v.squeeze() for k, v in inputs.items()}\n",
    "        return inputs"
   ]
  },
  {
   "cell_type": "code",
   "execution_count": 9,
   "metadata": {},
   "outputs": [
    {
     "name": "stderr",
     "output_type": "stream",
     "text": [
      "/home/scai/mtech/aib242289/.conda/envs/cv/lib/python3.12/site-packages/transformers/utils/deprecation.py:172: UserWarning: The following named arguments are not valid for `SegformerImageProcessor.__init__` and were ignored: 'feature_extractor_type'\n",
      "  return func(*args, **kwargs)\n"
     ]
    }
   ],
   "source": [
    "processor = SegformerImageProcessor.from_pretrained(\"nvidia/segformer-b5-finetuned-ade-640-640\")\n",
    "pseudo_label_paths = [os.path.join(pseudo_label_dir, os.path.basename(img).replace('.jpg', '_mask.png')) for img in likely_dog_imgs]\n",
    "dataset = PseudoLabeledDataset(likely_dog_imgs, pseudo_label_paths, processor)\n",
    "dataloader = DataLoader(dataset, batch_size=2, shuffle=True)"
   ]
  },
  {
   "cell_type": "code",
   "execution_count": 10,
   "metadata": {},
   "outputs": [
    {
     "name": "stderr",
     "output_type": "stream",
     "text": [
      "Some weights of SegformerForSemanticSegmentation were not initialized from the model checkpoint at nvidia/segformer-b5-finetuned-ade-640-640 and are newly initialized because the shapes did not match:\n",
      "- decode_head.classifier.weight: found shape torch.Size([150, 768, 1, 1]) in the checkpoint and torch.Size([2, 768, 1, 1]) in the model instantiated\n",
      "- decode_head.classifier.bias: found shape torch.Size([150]) in the checkpoint and torch.Size([2]) in the model instantiated\n",
      "You should probably TRAIN this model on a down-stream task to be able to use it for predictions and inference.\n"
     ]
    }
   ],
   "source": [
    "model = SegformerForSemanticSegmentation.from_pretrained(\n",
    "    \"nvidia/segformer-b5-finetuned-ade-640-640\",\n",
    "    num_labels=2,  # Background & dog\n",
    "    ignore_mismatched_sizes=True\n",
    ")\n",
    "device = torch.device(\"cuda\" if torch.cuda.is_available() else \"cpu\")\n",
    "model.to(device)\n",
    "\n",
    "optimizer = torch.optim.AdamW(model.parameters(), lr=5e-5)\n"
   ]
  },
  {
   "cell_type": "code",
   "execution_count": 11,
   "metadata": {},
   "outputs": [
    {
     "name": "stderr",
     "output_type": "stream",
     "text": [
      "Epoch 1: 100%|██████████████████████| 60/60 [00:42<00:00,  1.40it/s, loss=0.894]\n",
      "Epoch 2: 100%|█████████████████████| 60/60 [00:26<00:00,  2.26it/s, loss=0.0179]\n",
      "Epoch 3: 100%|██████████████████████| 60/60 [00:26<00:00,  2.25it/s, loss=0.221]\n",
      "Epoch 4: 100%|█████████████████████| 60/60 [00:26<00:00,  2.27it/s, loss=0.0558]\n",
      "Epoch 5: 100%|████████████████████| 60/60 [00:26<00:00,  2.27it/s, loss=0.00137]\n",
      "Epoch 6: 100%|█████████████████████| 60/60 [00:26<00:00,  2.25it/s, loss=0.0306]\n",
      "Epoch 7: 100%|████████████████████| 60/60 [00:26<00:00,  2.27it/s, loss=0.00745]\n",
      "Epoch 8: 100%|████████████████████| 60/60 [00:26<00:00,  2.26it/s, loss=0.00449]\n",
      "Epoch 9: 100%|███████████████████████| 60/60 [00:26<00:00,  2.26it/s, loss=0.01]\n",
      "Epoch 10: 100%|████████████████████| 60/60 [00:26<00:00,  2.26it/s, loss=0.0106]\n",
      "Epoch 11: 100%|███████████████████| 60/60 [00:26<00:00,  2.26it/s, loss=3.92e-6]\n",
      "Epoch 12: 100%|███████████████████| 60/60 [00:26<00:00,  2.26it/s, loss=5.25e-5]\n",
      "Epoch 13: 100%|███████████████████| 60/60 [00:26<00:00,  2.26it/s, loss=3.95e-6]\n",
      "Epoch 14: 100%|███████████████████| 60/60 [00:26<00:00,  2.26it/s, loss=0.00772]\n",
      "Epoch 15: 100%|██████████████████| 60/60 [00:26<00:00,  2.26it/s, loss=0.000191]\n"
     ]
    }
   ],
   "source": [
    "model.train()\n",
    "for epoch in range(10):  # Adjust epochs as needed\n",
    "    loop = tqdm(dataloader, desc=f\"Epoch {epoch+1}\")\n",
    "    for batch in loop:\n",
    "        pixel_values = batch[\"pixel_values\"].to(device)\n",
    "        labels = batch[\"labels\"].long().to(device)\n",
    "        outputs = model(pixel_values=pixel_values, labels=labels)\n",
    "        loss = outputs.loss\n",
    "\n",
    "        optimizer.zero_grad()\n",
    "        loss.backward()\n",
    "        optimizer.step()\n",
    "\n",
    "        loop.set_postfix(loss=loss.item())\n"
   ]
  },
  {
   "cell_type": "code",
   "execution_count": 12,
   "metadata": {},
   "outputs": [
    {
     "data": {
      "text/plain": [
       "['dataset/finetuned_segformer_dog/preprocessor_config.json']"
      ]
     },
     "execution_count": 12,
     "metadata": {},
     "output_type": "execute_result"
    }
   ],
   "source": [
    "model.save_pretrained(os.path.join(DATASET_ROOT, \"finetuned_segformer_dog\"))\n",
    "processor.save_pretrained(os.path.join(DATASET_ROOT, \"finetuned_segformer_dog\"))\n"
   ]
  },
  {
   "cell_type": "code",
   "execution_count": 13,
   "metadata": {},
   "outputs": [
    {
     "data": {
      "image/png": "[encoded data removed]",
      "text/plain": [
       "<Figure size 640x480 with 1 Axes>"
      ]
     },
     "metadata": {},
     "output_type": "display_data"
    }
   ],
   "source": [
    "model.eval()\n",
    "with torch.no_grad():\n",
    "    for batch in dataloader:\n",
    "        pixel_values = batch[\"pixel_values\"].to(device)\n",
    "        outputs = model(pixel_values=pixel_values)\n",
    "        preds = outputs.logits.argmax(dim=1)\n",
    "        break\n",
    "\n",
    "plt.imshow(preds[0].cpu().numpy())\n",
    "plt.title(\"Predicted Mask\")\n",
    "plt.show()"
   ]
  },
  {
   "cell_type": "code",
   "execution_count": 14,
   "metadata": {},
   "outputs": [
    {
     "name": "stdout",
     "output_type": "stream",
     "text": [
      "mIoU: 0.5582425058766955 Pixel Accuracy: 0.7238180541992187\n"
     ]
    }
   ],
   "source": [
    "from torchvision.transforms import functional as F\n",
    "\n",
    "def compute_iou(pred_mask, true_mask, num_classes=2):\n",
    "    ious = []\n",
    "    for cls in range(num_classes):\n",
    "        pred_inds = (pred_mask == cls)\n",
    "        true_inds = (true_mask == cls)\n",
    "        intersection = (pred_inds & true_inds).sum().item()\n",
    "        union = (pred_inds | true_inds).sum().item()\n",
    "        if union == 0:\n",
    "            ious.append(float('nan'))  # Ignore this class\n",
    "        else:\n",
    "            ious.append(intersection / union)\n",
    "    return ious\n",
    "\n",
    "def pixel_accuracy(pred_mask, true_mask):\n",
    "    correct = (pred_mask == true_mask).sum().item()\n",
    "    total = true_mask.numel()\n",
    "    return correct / total\n",
    "\n",
    "def evaluate(model, img_list, mask_list, processor, device):\n",
    "    model.eval()\n",
    "    iou_list = []\n",
    "    pixel_acc_list = []\n",
    "    image_metrics = []  # To store (img_path, iou, pixel_acc)\n",
    "\n",
    "    with torch.no_grad():\n",
    "        for img_path, mask_path in zip(img_list, mask_list):\n",
    "            image = Image.open(img_path).convert(\"RGB\")\n",
    "            true_mask = Image.open(mask_path)\n",
    "            true_mask = np.array(true_mask)\n",
    "            # Binarize for dog class (12)\n",
    "            true_mask = np.where(true_mask == DOG_CLASS_INDEX, 0, 1).astype(np.uint8)\n",
    "            \n",
    "            # Print unique values in ground truth mask\n",
    "            #print(f\"Ground Truth Mask ({os.path.basename(mask_path)}): Unique values = {np.unique(true_mask)}\")\n",
    "\n",
    "            true_mask_tensor = torch.tensor(true_mask, dtype=torch.int64)\n",
    "            inputs = processor(images=image, return_tensors=\"pt\")\n",
    "            pixel_values = inputs.pixel_values.to(device)\n",
    "            outputs = model(pixel_values=pixel_values)\n",
    "            logits = outputs.logits\n",
    "            pred_mask = torch.argmax(logits.squeeze(), dim=0).cpu()\n",
    "\n",
    "            # Print unique values in predicted mask\n",
    "            #print(f\"Predicted Mask ({os.path.basename(img_path)}): Unique values = {np.unique(pred_mask.numpy())}\")\n",
    "\n",
    "            # Resize true mask to match prediction if needed\n",
    "            if true_mask_tensor.shape != pred_mask.shape:\n",
    "                true_mask_pil = Image.fromarray(true_mask_tensor.numpy().astype(np.uint8))\n",
    "                true_mask_resized = F.resize(true_mask_pil, pred_mask.shape, interpolation=Image.NEAREST)\n",
    "                true_mask_tensor = torch.tensor(np.array(true_mask_resized), dtype=torch.int64)\n",
    "\n",
    "            # Compute metrics\n",
    "            ious = compute_iou(pred_mask, true_mask_tensor, num_classes=2)\n",
    "            iou_list.append(ious)\n",
    "            pixel_acc = pixel_accuracy(pred_mask, true_mask_tensor)\n",
    "            pixel_acc_list.append(pixel_acc)\n",
    "\n",
    "            image_metrics.append({\n",
    "                \"img_path\": img_path,\n",
    "                \"iou\": ious[1],  # IoU for class 1 (dog)\n",
    "                \"pixel_acc\": pixel_acc\n",
    "            })\n",
    "\n",
    "    # Compute mean IoU ignoring NaNs\n",
    "    iou_array = np.array(iou_list)\n",
    "    mean_iou_per_class = np.nanmean(iou_array, axis=0)\n",
    "    mean_iou = np.nanmean(mean_iou_per_class)\n",
    "    mean_pixel_acc = np.mean(pixel_acc_list)\n",
    "    return {\n",
    "        \"miou\": mean_iou,\n",
    "        \"miou_per_class\": mean_iou_per_class.tolist(),\n",
    "        \"pixel_acc\": mean_pixel_acc,\n",
    "        \"image_metrics\": image_metrics  # Add per-image results\n",
    "    }\n",
    "\n",
    "metrics = evaluate(model, item_d_imgs, item_d_masks, processor, device)\n",
    "print(\"mIoU:\", metrics['miou'], \"Pixel Accuracy:\", metrics['pixel_acc'])\n",
    "\n",
    "# %%\n",
    "# Visualize Item A and a few test images/mask"
   ]
  },
  {
   "cell_type": "markdown",
   "metadata": {},
   "source": [
    "# After calling evaluate()\n",
    "metrics = evaluate(model, item_d_imgs, item_d_masks, processor, device)\n",
    "print(\"mIoU:\", metrics['miou'], \"Pixel Accuracy:\", metrics['pixel_acc'])\n",
    "\n",
    "# Extract and sort images by IoU\n",
    "image_metrics_sorted = sorted(\n",
    "    metrics['image_metrics'], \n",
    "    key=lambda x: x['iou'], \n",
    "    reverse=True\n",
    ")\n",
    "\n",
    "# Get top N images (e.g., top 5)\n",
    "top_n = 30\n",
    "top_images = image_metrics_sorted[:top_n]\n",
    "\n",
    "# Print results\n",
    "print(\"\\nTop images by IoU:\")\n",
    "for entry in top_images:\n",
    "    print(f\"IoU: {entry['iou']:.4f} | Image: {entry['img_path']}\")\n"
   ]
  },
  {
   "cell_type": "markdown",
   "metadata": {},
   "source": [
    "import matplotlib.pyplot as plt\n",
    "from PIL import Image\n",
    "\n",
    "def show_img_gt_pred(img_path, mask_path, model, processor, device):\n",
    "    # Load image and ground truth mask\n",
    "    img = Image.open(img_path).convert(\"RGB\")\n",
    "    gt_mask = Image.open(mask_path)\n",
    "    \n",
    "    # Prepare input and get model prediction\n",
    "    inputs = processor(images=img, return_tensors=\"pt\")\n",
    "    pixel_values = inputs.pixel_values.to(device)\n",
    "    model.eval()\n",
    "    with torch.no_grad():\n",
    "        outputs = model(pixel_values=pixel_values)\n",
    "        pred_mask = torch.argmax(outputs.logits.squeeze(), dim=0).cpu().numpy()\n",
    "    \n",
    "    # Plot all three\n",
    "    plt.figure(figsize=(12,4))\n",
    "    plt.subplot(1,3,1); plt.imshow(img); plt.title('Image'); plt.axis('off')\n",
    "    plt.subplot(1,3,2); plt.imshow(gt_mask); plt.title('Ground Truth'); plt.axis('off')\n",
    "    plt.subplot(1,3,3); plt.imshow(pred_mask); plt.title('Predicted Mask'); plt.axis('off')\n",
    "    plt.show()\n",
    "\n",
    "# For each entry in top_images, plot the results\n",
    "for entry in top_images:\n",
    "    img_path = entry['img_path']\n",
    "    mask_path = img_path.replace('.jpg', '_mask.png')  # Assuming this naming convention\n",
    "    print(f\"IoU: {entry['iou']:.4f} | Image: {img_path}\")\n",
    "    show_img_gt_pred(img_path, mask_path, model, processor, device)\n"
   ]
  },
  {
   "cell_type": "markdown",
   "metadata": {},
   "source": [
    "import matplotlib.pyplot as plt\n",
    "from PIL import Image\n",
    "import torch\n",
    "\n",
    "def show_img_gt_pred(img_path, mask_path, model, processor, device):\n",
    "    # Load image and ground truth mask\n",
    "    img = Image.open(img_path).convert(\"RGB\")\n",
    "    gt_mask = Image.open(mask_path)\n",
    "    \n",
    "    # Prepare input and get model prediction\n",
    "    inputs = processor(images=img, return_tensors=\"pt\")\n",
    "    pixel_values = inputs.pixel_values.to(device)\n",
    "    model.eval()\n",
    "    with torch.no_grad():\n",
    "        outputs = model(pixel_values=pixel_values)\n",
    "        pred_mask = torch.argmax(outputs.logits.squeeze(), dim=0).cpu().numpy()\n",
    "    \n",
    "    # Plot all three\n",
    "    plt.figure(figsize=(12,4))\n",
    "    plt.subplot(1,3,1); plt.imshow(img); plt.title('Image'); plt.axis('off')\n",
    "    plt.subplot(1,3,2); plt.imshow(gt_mask); plt.title('Ground Truth'); plt.axis('off')\n",
    "    plt.subplot(1,3,3); plt.imshow(pred_mask); plt.title('Predicted Mask'); plt.axis('off')\n",
    "    plt.show()\n",
    "\n",
    "# Example: visualize Item A\n",
    "show_img_gt_pred(item_a_img, item_a_mask, model, processor, device)\n",
    "\n",
    "# Example: visualize first 5 test images\n",
    "for img_path, mask_path in zip(item_d_imgs[:5], item_d_masks[:5]):\n",
    "    show_img_gt_pred(img_path, mask_path, model, processor, device)\n"
   ]
  },
  {
   "cell_type": "code",
   "execution_count": null,
   "metadata": {},
   "outputs": [],
   "source": []
  },
  {
   "cell_type": "code",
   "execution_count": null,
   "metadata": {},
   "outputs": [],
   "source": []
  }
 ],
 "metadata": {
  "kernelspec": {
   "display_name": "Python 3 (ipykernel)",
   "language": "python",
   "name": "python3"
  },
  "language_info": {
   "codemirror_mode": {
    "name": "ipython",
    "version": 3
   },
   "file_extension": ".py",
   "mimetype": "text/x-python",
   "name": "python",
   "nbconvert_exporter": "python",
   "pygments_lexer": "ipython3",
   "version": "3.12.9"
  }
 },
 "nbformat": 4,
 "nbformat_minor": 2
}
