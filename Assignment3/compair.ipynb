{
 "cells": [
  {
   "cell_type": "code",
   "execution_count": 1,
   "metadata": {},
   "outputs": [],
   "source": [
    "import torch\n",
    "import torchvision\n",
    "import torchvision.transforms as transforms\n",
    "from torchvision.datasets import ImageFolder\n",
    "from torch.utils.data import DataLoader, Subset, random_split\n",
    "import torch.nn as nn\n",
    "import torch.optim as optim\n",
    "from torchvision.models import resnet18\n",
    "import random\n",
    "from torchvision.models import mobilenet_v2\n"
   ]
  },
  {
   "cell_type": "code",
   "execution_count": 2,
   "metadata": {},
   "outputs": [],
   "source": [
    "device = torch.device(\"cuda\" if torch.cuda.is_available() else \"mps\" if torch.backends.mps.is_available() else \"cpu\")"
   ]
  },
  {
   "cell_type": "code",
   "execution_count": 3,
   "metadata": {},
   "outputs": [],
   "source": [
    "batch_size = 32"
   ]
  },
  {
   "cell_type": "code",
   "execution_count": 4,
   "metadata": {},
   "outputs": [],
   "source": [
    "from torch.utils.data import Dataset\n",
    "\n",
    "augmentation_transforms = transforms.Compose([\n",
    "    transforms.ToPILImage(),\n",
    "\n",
    "    transforms.RandomHorizontalFlip(),\n",
    "    transforms.ColorJitter(brightness=0.2, contrast=0.2, saturation=0.2, hue=0.1),\n",
    "    transforms.RandomRotation(degrees=15),\n",
    "    transforms.ToTensor(),\n",
    "    transforms.Normalize([0.485, 0.456, 0.406], [0.229, 0.224, 0.225])\n",
    "])\n",
    "\n",
    "transform = transforms.Compose([\n",
    "    transforms.Resize((224, 224)),\n",
    "    transforms.RandomHorizontalFlip(),\n",
    "    transforms.ColorJitter(brightness=0.2, contrast=0.2, saturation=0.2, hue=0.1),\n",
    "    transforms.RandomRotation(degrees=15),\n",
    "    transforms.ToTensor(),\n",
    "    transforms.Normalize([0.485, 0.456, 0.406], [0.229, 0.224, 0.225])\n",
    "])\n",
    "transform_test = transforms.Compose([\n",
    "    \n",
    "    transforms.Resize((224, 224)),\n",
    "    transforms.ToTensor(),\n",
    "    transforms.Normalize((0.5, 0.5, 0.5), (0.5, 0.5, 0.5))\n",
    "])\n",
    "\n",
    "full_train_dataset = ImageFolder(root=\"data/synthetic/cifar10\",transform=transform)\n",
    "test_dataset = ImageFolder(root=\"data/real/animal_data\", transform=transform_test)\n",
    "\n",
    "test_loader = DataLoader(test_dataset, batch_size=batch_size, shuffle=False)\n"
   ]
  },
  {
   "cell_type": "code",
   "execution_count": 5,
   "metadata": {},
   "outputs": [],
   "source": [
    "class AugmentedDataset(Dataset):\n",
    "    def __init__(self, original_dataset, num_augmented_samples):\n",
    "        self.original_dataset = original_dataset\n",
    "        self.num_augmented_samples = num_augmented_samples\n",
    "        \n",
    "    def __len__(self):\n",
    "        return len(self.original_dataset) + self.num_augmented_samples\n",
    "    \n",
    "    def __getitem__(self, idx):\n",
    "        if idx < len(self.original_dataset):\n",
    "            return self.original_dataset[idx]\n",
    "        else:\n",
    "            # Generate augmented sample\n",
    "            original_idx = idx % len(self.original_dataset)\n",
    "            image, label = self.original_dataset[original_idx]\n",
    "            augmented_image = augmentation_transforms(image)\n",
    "            return augmented_image, label\n"
   ]
  },
  {
   "cell_type": "code",
   "execution_count": 6,
   "metadata": {},
   "outputs": [],
   "source": [
    "#full_train_dataset = AugmentedDataset(full_train_dataset, num_augmented_samples=1000)\n"
   ]
  },
  {
   "cell_type": "code",
   "execution_count": 7,
   "metadata": {},
   "outputs": [],
   "source": [
    "sample_sizes = [2000]\n",
    "num_classes = 3  # For dog, cat, bird\n",
    "num_epochs = 10"
   ]
  },
  {
   "cell_type": "code",
   "execution_count": 8,
   "metadata": {},
   "outputs": [],
   "source": [
    "def modify_resnet18(model, num_classes, dropout_rate=0.3):\n",
    "    # Modify the existing ResNet18 model\n",
    "    model.fc = nn.Sequential(\n",
    "        nn.Dropout(p=dropout_rate),\n",
    "        nn.Linear(model.fc.in_features, num_classes)\n",
    "    )\n",
    "    return model"
   ]
  },
  {
   "cell_type": "code",
   "execution_count": 9,
   "metadata": {},
   "outputs": [],
   "source": [
    "import torch\n",
    "from torch.utils.data import Subset\n",
    "import random\n",
    "from collections import defaultdict\n",
    "\n",
    "def stratified_sample(dataset, sample_size_per_class):\n",
    "    # Group indices by class\n",
    "    class_indices = defaultdict(list)\n",
    "    for idx, (_, label) in enumerate(dataset):\n",
    "        class_indices[label].append(idx)\n",
    "    \n",
    "    # Sample from each class\n",
    "    sampled_indices = []\n",
    "    for class_label, indices in class_indices.items():\n",
    "        if len(indices) < sample_size_per_class:\n",
    "            print(f\"Warning: Class {class_label} has only {len(indices)} samples, using all of them.\")\n",
    "            sampled_indices.extend(indices)\n",
    "        else:\n",
    "            sampled_indices.extend(random.sample(indices, sample_size_per_class))\n",
    "    \n",
    "    return Subset(dataset, sampled_indices)\n"
   ]
  },
  {
   "cell_type": "code",
   "execution_count": 10,
   "metadata": {},
   "outputs": [],
   "source": [
    "class FeatureExtractor(nn.Module):\n",
    "    def __init__(self, num_classes):\n",
    "        super(FeatureExtractor, self).__init__()\n",
    "        # Load pre-trained MobileNetV2\n",
    "        mobilenet = mobilenet_v2(pretrained=True)\n",
    "        \n",
    "        # Freeze all parameters\n",
    "        for param in mobilenet.parameters():\n",
    "            param.requires_grad = False\n",
    "        \n",
    "        # Use all layers except the last classifier\n",
    "        self.features = mobilenet.features\n",
    "        \n",
    "        # Add a simple classifier\n",
    "        self.classifier = nn.Sequential(\n",
    "            nn.Dropout(0.2),\n",
    "            nn.Linear(1280, num_classes)  # MobileNetV2's last conv layer has 1280 channels\n",
    "        )\n",
    "\n",
    "    def forward(self, x):\n",
    "        x = self.features(x)\n",
    "        x = nn.functional.adaptive_avg_pool2d(x, (1, 1))\n",
    "        x = torch.flatten(x, 1)\n",
    "        x = self.classifier(x)\n",
    "        return x"
   ]
  },
  {
   "cell_type": "code",
   "execution_count": 11,
   "metadata": {},
   "outputs": [
    {
     "name": "stdout",
     "output_type": "stream",
     "text": [
      "\n",
      "Training with 2000 samples\n"
     ]
    },
    {
     "name": "stderr",
     "output_type": "stream",
     "text": [
      "c:\\Users\\kashp\\miniconda3\\envs\\cva3\\Lib\\site-packages\\torchvision\\models\\_utils.py:208: UserWarning: The parameter 'pretrained' is deprecated since 0.13 and may be removed in the future, please use 'weights' instead.\n",
      "  warnings.warn(\n",
      "c:\\Users\\kashp\\miniconda3\\envs\\cva3\\Lib\\site-packages\\torchvision\\models\\_utils.py:223: UserWarning: Arguments other than a weight enum or `None` for 'weights' are deprecated since 0.13 and may be removed in the future. The current behavior is equivalent to passing `weights=MobileNet_V2_Weights.IMAGENET1K_V1`. You can also use `weights=MobileNet_V2_Weights.DEFAULT` to get the most up-to-date weights.\n",
      "  warnings.warn(msg)\n"
     ]
    },
    {
     "name": "stdout",
     "output_type": "stream",
     "text": [
      "starting training\n",
      "Epoch [1/10], Train Loss: 0.2528, Train Acc: 93.81%, Val Loss: 0.0552, Val Acc: 99.58%\n",
      "Epoch [2/10], Train Loss: 0.0781, Train Acc: 98.35%, Val Loss: 0.0403, Val Acc: 99.44%\n",
      "Epoch [3/10], Train Loss: 0.0492, Train Acc: 99.05%, Val Loss: 0.0209, Val Acc: 99.72%\n",
      "Epoch [4/10], Train Loss: 0.0409, Train Acc: 99.16%, Val Loss: 0.0218, Val Acc: 99.30%\n",
      "Epoch [5/10], Train Loss: 0.0393, Train Acc: 99.12%, Val Loss: 0.0177, Val Acc: 99.58%\n",
      "Epoch [6/10], Train Loss: 0.0353, Train Acc: 98.95%, Val Loss: 0.0103, Val Acc: 99.86%\n",
      "Epoch [7/10], Train Loss: 0.0360, Train Acc: 98.73%, Val Loss: 0.0086, Val Acc: 99.86%\n",
      "Epoch [8/10], Train Loss: 0.0315, Train Acc: 99.16%, Val Loss: 0.0117, Val Acc: 99.86%\n",
      "Epoch [9/10], Train Loss: 0.0274, Train Acc: 99.26%, Val Loss: 0.0123, Val Acc: 99.72%\n",
      "Epoch [10/10], Train Loss: 0.0266, Train Acc: 99.12%, Val Loss: 0.0095, Val Acc: 99.86%\n",
      "Sample Size: 2000, Test Loss: 0.3121, Test Accuracy: 86.39%, Test Error: 13.61%\n"
     ]
    }
   ],
   "source": [
    "results = []\n",
    "\n",
    "for sample_size in sample_sizes:\n",
    "    print(f\"\\nTraining with {sample_size} samples\")\n",
    "    \n",
    "    # Randomly sample from the full dataset\n",
    "    train_dataset = full_train_dataset#stratified_sample(full_train_dataset, sample_size)\n",
    "    total_samples = len(train_dataset)\n",
    "\n",
    "    # Split into train and validation\n",
    "    n_val = int(0.2 * total_samples)\n",
    "    n_train = total_samples - n_val\n",
    "    train_data, val_data = random_split(train_dataset, [n_train, n_val])\n",
    "    \n",
    "    train_loader = DataLoader(train_data, batch_size=batch_size, shuffle=True)\n",
    "    val_loader = DataLoader(val_data, batch_size=batch_size, shuffle=False)\n",
    "    \n",
    "    model = FeatureExtractor(num_classes=3).to(device)\n",
    "\n",
    "\n",
    "\n",
    "    \n",
    "    criterion = torch.nn.CrossEntropyLoss()\n",
    "    optimizer = optim.Adam(model.classifier.parameters(), lr=0.001)\n",
    "    scheduler = optim.lr_scheduler.StepLR(optimizer, step_size=7, gamma=0.1)\n",
    "    print('starting training')\n",
    "    \n",
    "    for epoch in range(num_epochs):\n",
    "        model.train()\n",
    "        train_correct = 0\n",
    "        train_total = 0\n",
    "        train_loss_sum = 0.0\n",
    "        \n",
    "        for images, labels in train_loader:\n",
    "            images, labels = images.to(device), labels.to(device)\n",
    "            \n",
    "            optimizer.zero_grad()\n",
    "            outputs = model(images)\n",
    "            loss = criterion(outputs, labels)\n",
    "            loss.backward()\n",
    "            optimizer.step()\n",
    "            \n",
    "            _, predicted = torch.max(outputs.data, 1)\n",
    "            train_total += labels.size(0)\n",
    "            train_correct += (predicted == labels).sum().item()\n",
    "            train_loss_sum += loss.item()\n",
    "        scheduler.step()\n",
    "        train_accuracy = 100 * train_correct / train_total\n",
    "        train_loss = train_loss_sum / len(train_loader)\n",
    "        \n",
    "        # Validation\n",
    "        model.eval()\n",
    "        val_correct = 0\n",
    "        val_total = 0\n",
    "        val_loss_sum = 0.0\n",
    "        \n",
    "        with torch.no_grad():\n",
    "            for images, labels in val_loader:\n",
    "                images, labels = images.to(device), labels.to(device)\n",
    "                outputs = model(images)\n",
    "                loss = criterion(outputs, labels)\n",
    "                \n",
    "                _, predicted = torch.max(outputs.data, 1)\n",
    "                val_total += labels.size(0)\n",
    "                val_correct += (predicted == labels).sum().item()\n",
    "                val_loss_sum += loss.item()\n",
    "        \n",
    "        val_accuracy = 100 * val_correct / val_total\n",
    "        val_loss = val_loss_sum / len(val_loader)\n",
    "        \n",
    "        print(f'Epoch [{epoch+1}/{num_epochs}], Train Loss: {train_loss:.4f}, Train Acc: {train_accuracy:.2f}%, Val Loss: {val_loss:.4f}, Val Acc: {val_accuracy:.2f}%')\n",
    "    \n",
    "    # Test on full test dataset\n",
    "    model.eval()\n",
    "    test_correct = 0\n",
    "    test_total = 0\n",
    "    test_loss_sum = 0.0\n",
    "    \n",
    "    with torch.no_grad():\n",
    "        for images, labels in test_loader:\n",
    "            images, labels = images.to(device), labels.to(device)\n",
    "            outputs = model(images)\n",
    "            loss = criterion(outputs, labels)\n",
    "            \n",
    "            _, predicted = torch.max(outputs.data, 1)\n",
    "            test_total += labels.size(0)\n",
    "            test_correct += (predicted == labels).sum().item()\n",
    "            test_loss_sum += loss.item()\n",
    "    \n",
    "    test_accuracy = 100 * test_correct / test_total\n",
    "    test_loss = test_loss_sum / len(test_loader)\n",
    "    test_error = 100 - test_accuracy\n",
    "    \n",
    "    print(f'Sample Size: {sample_size}, Test Loss: {test_loss:.4f}, Test Accuracy: {test_accuracy:.2f}%, Test Error: {test_error:.2f}%')\n",
    "    results.append((sample_size, test_loss, test_accuracy, test_error))\n",
    "\n"
   ]
  },
  {
   "cell_type": "code",
   "execution_count": 14,
   "metadata": {},
   "outputs": [
    {
     "name": "stdout",
     "output_type": "stream",
     "text": [
      "Model saved to model.pth\n"
     ]
    }
   ],
   "source": [
    "def save_model(model, path):\n",
    "    torch.save(model.state_dict(), path)\n",
    "    print(f\"Model saved to {path}\")\n",
    "\n",
    "# After training, save the model\n",
    "model_save_path = \"model.pth\"\n",
    "save_model(model, model_save_path)\n"
   ]
  },
  {
   "cell_type": "code",
   "execution_count": null,
   "metadata": {},
   "outputs": [],
   "source": []
  }
 ],
 "metadata": {
  "kernelspec": {
   "display_name": "cva3",
   "language": "python",
   "name": "python3"
  },
  "language_info": {
   "codemirror_mode": {
    "name": "ipython",
    "version": 3
   },
   "file_extension": ".py",
   "mimetype": "text/x-python",
   "name": "python",
   "nbconvert_exporter": "python",
   "pygments_lexer": "ipython3",
   "version": "3.11.11"
  }
 },
 "nbformat": 4,
 "nbformat_minor": 2
}
