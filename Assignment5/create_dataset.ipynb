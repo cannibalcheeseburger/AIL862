{
 "cells": [
  {
   "cell_type": "code",
   "execution_count": 15,
   "metadata": {},
   "outputs": [],
   "source": [
    "import os\n",
    "import shutil\n",
    "import random\n",
    "import numpy as np\n",
    "from PIL import Image\n",
    "\n",
    "def create_dataset_folders(voc_root_dir, class_index, class_text, num_unlabeled=100, out_root='dataset'):\n",
    "    # Paths inside VOC\n",
    "    img_dir = os.path.join(voc_root_dir, 'JPEGImages')\n",
    "    mask_dir = os.path.join(voc_root_dir, 'SegmentationClass')\n",
    "    split_dir = os.path.join(voc_root_dir, 'ImageSets', 'Segmentation')\n",
    "\n",
    "    # Read train and val splits\n",
    "    with open(os.path.join(split_dir, 'train.txt')) as f:\n",
    "        train_ids = f.read().splitlines()\n",
    "    with open(os.path.join(split_dir, 'val.txt')) as f:\n",
    "        val_ids = f.read().splitlines()\n",
    "\n",
    "    # Helper function to check if mask contains the class\n",
    "    def contains_class(mask_path, class_idx):\n",
    "        mask = Image.open(mask_path)\n",
    "        mask_np = np.array(mask)\n",
    "        return class_idx in mask_np\n",
    "\n",
    "    # Find all train images with and without the class\n",
    "    positive_ids = []\n",
    "    negative_ids = []\n",
    "    for img_id in train_ids:\n",
    "        mask_path = os.path.join(mask_dir, img_id + '.png')\n",
    "        if contains_class(mask_path, class_index):\n",
    "            positive_ids.append(img_id)\n",
    "        else:\n",
    "            negative_ids.append(img_id)\n",
    "\n",
    "    # Find one example image with the class for folder a\n",
    "    item_a_id = positive_ids[0]\n",
    "    positive_ids_excl_a = [i for i in positive_ids if i != item_a_id]\n",
    "\n",
    "    # Create main dataset folder and subfolders\n",
    "    os.makedirs(out_root, exist_ok=True)\n",
    "    os.makedirs(os.path.join(out_root, 'a'), exist_ok=True)\n",
    "    os.makedirs(os.path.join(out_root, 'b'), exist_ok=True)\n",
    "    os.makedirs(os.path.join(out_root, 'c'), exist_ok=True)\n",
    "    os.makedirs(os.path.join(out_root, 'd'), exist_ok=True)\n",
    "\n",
    "    # Copy item A image and mask\n",
    "    shutil.copy(os.path.join(img_dir, item_a_id + '.jpg'), os.path.join(out_root, 'a', 'img.jpg'))\n",
    "    shutil.copy(os.path.join(mask_dir, item_a_id + '.png'), os.path.join(out_root, 'a', 'mask.png'))\n",
    "\n",
    "    # Write class description to b/class.txt\n",
    "    with open(os.path.join(out_root, 'b', 'class.txt'), 'w') as f:\n",
    "        f.write(class_text)\n",
    "\n",
    "    # Prepare item C: at least 20% positive, rest negative\n",
    "    num_pos = max(1, int(0.8 * num_unlabeled))\n",
    "    num_neg = num_unlabeled - num_pos\n",
    "    pos_sample = random.sample(positive_ids_excl_a, min(num_pos, len(positive_ids_excl_a)))\n",
    "    neg_sample = random.sample(negative_ids, min(num_neg, len(negative_ids)))\n",
    "    c_ids = pos_sample + neg_sample\n",
    "    random.shuffle(c_ids)\n",
    "    for img_id in c_ids:\n",
    "        shutil.copy(os.path.join(img_dir, img_id + '.jpg'), os.path.join(out_root, 'c', img_id + '.jpg'))\n",
    "\n",
    "    # Prepare item D: test images and masks from val set (only those containing the target class)\n",
    "    d_count = 0\n",
    "    for img_id in val_ids:\n",
    "        mask_path = os.path.join(mask_dir, img_id + '.png')\n",
    "        if contains_class(mask_path, class_index):\n",
    "            shutil.copy(os.path.join(img_dir, img_id + '.jpg'), os.path.join(out_root, 'd', img_id + '.jpg'))\n",
    "            shutil.copy(mask_path, os.path.join(out_root, 'd', img_id + '_mask.png'))\n",
    "            d_count += 1\n",
    "\n",
    "    print(f\"Folders a, b, c, d created inside '{out_root}' with class index {class_index}, {num_unlabeled} unlabeled images (at least {len(pos_sample)} positive), and {d_count} test images containing the target class.\")\n",
    "\n",
    "# Example usage:\n"
   ]
  },
  {
   "cell_type": "code",
   "execution_count": 16,
   "metadata": {},
   "outputs": [
    {
     "name": "stdout",
     "output_type": "stream",
     "text": [
      "Folders a, b, c, d created inside 'dataset' with class index 12, 200 unlabeled images (at least 120 positive), and 128 test images containing the target class.\n"
     ]
    }
   ],
   "source": [
    "create_dataset_folders('./VOCdevkit/VOC2012', 12, 'A dog is a four-legged domestic animal commonly kept as a pet.', 200)\n"
   ]
  },
  {
   "cell_type": "code",
   "execution_count": null,
   "metadata": {},
   "outputs": [],
   "source": []
  }
 ],
 "metadata": {
  "kernelspec": {
   "display_name": "Python 3 (ipykernel)",
   "language": "python",
   "name": "python3"
  },
  "language_info": {
   "codemirror_mode": {
    "name": "ipython",
    "version": 3
   },
   "file_extension": ".py",
   "mimetype": "text/x-python",
   "name": "python",
   "nbconvert_exporter": "python",
   "pygments_lexer": "ipython3",
   "version": "3.12.9"
  }
 },
 "nbformat": 4,
 "nbformat_minor": 2
}
